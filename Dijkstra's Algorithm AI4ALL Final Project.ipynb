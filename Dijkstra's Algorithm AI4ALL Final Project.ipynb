{
 "cells": [
  {
   "cell_type": "code",
   "execution_count": 17,
   "metadata": {},
   "outputs": [],
   "source": [
    "import numpy as np\n",
    "from graph_helpers import visualize_adjacency, visualize_map, visualize_costs, visualize_path"
   ]
  },
  {
   "cell_type": "code",
   "execution_count": 18,
   "metadata": {},
   "outputs": [
    {
     "data": {
      "image/png": "[encoded data removed]",
      "text/plain": [
       "<Figure size 432x288 with 1 Axes>"
      ]
     },
     "metadata": {
      "needs_background": "light"
     },
     "output_type": "display_data"
    },
    {
     "data": {
      "image/png": "[encoded data removed]",
      "text/plain": [
       "<Figure size 432x288 with 1 Axes>"
      ]
     },
     "metadata": {
      "needs_background": "light"
     },
     "output_type": "display_data"
    }
   ],
   "source": [
    "a = np.zeros((11, 18))\n",
    "visualize_map(\"Empty Map\", a)\n",
    "\n",
    "b = np.zeros((11, 18))\n",
    "b[0, 0] = 1\n",
    "\n",
    "def flipped_cmap(x):\n",
    "    if x == 0:\n",
    "        return [0, 255, 0]\n",
    "    else:\n",
    "        return [255, 0, 0]\n",
    "\n",
    "visualize_map(\"Empty Map with one green cell\", b, cmap=flipped_cmap)\n",
    "\n",
    "#visualize_map(\"Empty Map with one green cell\", data=flipped_I cmap)\n",
    "\n"
   ]
  },
  {
   "cell_type": "code",
   "execution_count": 19,
   "metadata": {},
   "outputs": [
    {
     "data": {
      "image/png": "[encoded data removed]",
      "text/plain": [
       "<Figure size 432x288 with 1 Axes>"
      ]
     },
     "metadata": {
      "needs_background": "light"
     },
     "output_type": "display_data"
    }
   ],
   "source": [
    "data = np.ones((11, 18))\n",
    "data[1, 3:6] = 0\n",
    "data[1, 7:10] = 0\n",
    "data[1, 11:13] = 0\n",
    "data[2, 4:13] = 0\n",
    "data[3, 3:13] = 0\n",
    "data[4, 4:7] = 0\n",
    "data[4, 8:10] = 0\n",
    "\n",
    "\n",
    "\n",
    "def flipped_cmap(x):\n",
    "    if x == 0:\n",
    "        return [0, 255, 0]\n",
    "    else:\n",
    "        return [255, 0, 0]\n",
    "\n",
    "\n",
    "#visualize_map(\"not flyable zones\", data2)\n",
    "visualize_map(\"not flyable zones\", data)"
   ]
  },
  {
   "cell_type": "code",
   "execution_count": 20,
   "metadata": {},
   "outputs": [],
   "source": [
    "def vertex_of_cell(M, i, j):\n",
    "    \"\"\"Get the vertex of a cell\n",
    "\n",
    "    Args:\n",
    "        M (np.ndarray): the map we are working with.\n",
    "        i (int): the row index.\n",
    "        j (int): the column index.\n",
    "    \"\"\"\n",
    "    assert len(M.shape) == 2\n",
    "    m, n = M.shape\n",
    "    # YOUR CODE HERE\n",
    "    # ***** Start of your code *****\n",
    "    return n * i + j \n",
    "    # ***** End of your code *****\n",
    "    \n",
    "def cell_of_vertex(M, k):\n",
    "    \"\"\"Get cell corresponding to the vertex.\n",
    "\n",
    "    Args:\n",
    "        M (np.ndarray): the map we are working with.\n",
    "        i (int): the row index.\n",
    "        j (int): the column index.\n",
    "    \"\"\"\n",
    "    assert len(M.shape) == 2\n",
    "    m, n = M.shape\n",
    "    \n",
    "    # YOUR CODE HERE\n",
    "    # ***** Start of your code *****\n",
    "    return np.array([k // n, k % n])\n",
    "    # ***** End of your code *****"
   ]
  },
  {
   "cell_type": "code",
   "execution_count": 21,
   "metadata": {},
   "outputs": [
    {
     "data": {
      "image/png": "[encoded data removed]",
      "text/plain": [
       "<Figure size 504x504 with 1 Axes>"
      ]
     },
     "metadata": {
      "needs_background": "light"
     },
     "output_type": "display_data"
    }
   ],
   "source": [
    "def adjacency_matrix(M, flyable=1):\n",
    "    \"\"\"Visualize a 2D array using matplotlib.\n",
    "    All inputs values should be normalized 0.0-1.0.\n",
    "\n",
    "    Args:\n",
    "        M (np.ndarray): the map we are working with.\n",
    "        flyable (int): what number indicates a flyable cell; defauls to 1.\n",
    "    \"\"\"\n",
    "    assert len(M.shape) == 2\n",
    "    # Size of map\n",
    "    m, n = M.shape\n",
    "    \n",
    "    # Number of vertices\n",
    "    o = m * n\n",
    "    \n",
    "    # A for *A*djacency matrix\n",
    "    A = np.zeros((o, o))\n",
    "    \n",
    "    # YOUR CODE HERE\n",
    "    # ~~START DELETE~~\n",
    "\n",
    "    for i in range(0, m):\n",
    "        for j in range(0, n):\n",
    "            \n",
    "            # check up\n",
    "            if i != 0 and M[i, j] == flyable and M[i-1, j] == flyable:\n",
    "                A[vertex_of_cell(M, i, j), vertex_of_cell(M, i-1, j)] = 1.\n",
    "                    \n",
    "            # check left\n",
    "            if j != 0 and M[i, j] == flyable and M[i, j-1] == flyable:\n",
    "                A[vertex_of_cell(M, i, j), vertex_of_cell(M, i, j-1)] = 1.\n",
    "            \n",
    "            # check down\n",
    "            if i != m-1 and M[i, j] == flyable and M[i+1, j] == flyable:\n",
    "                A[vertex_of_cell(M, i, j), vertex_of_cell(M, i+1, j)] = 1.\n",
    "               \n",
    "            # check right\n",
    "            if j != n-1 and M[i, j] == flyable and M[i, j+1] == flyable:\n",
    "                A[vertex_of_cell(M, i, j), vertex_of_cell(M, i, j+1)] = 1.\n",
    "                \n",
    "    # ~~END DELETE~~\n",
    "    \n",
    "    return A\n",
    "\n",
    "\n",
    "la_adjacency = adjacency_matrix(data)\n",
    "visualize_adjacency(\"LA Adjacency Matrix\", la_adjacency)"
   ]
  },
  {
   "cell_type": "code",
   "execution_count": 22,
   "metadata": {},
   "outputs": [],
   "source": [
    "def neighbors(A, k):\n",
    "    \"\"\"Get the neighbors of vertex `i`\n",
    "    \n",
    "    Args:\n",
    "        A (np.ndarray): Adjacency matrix\n",
    "        i (int): vertex we care about.\n",
    "    \"\"\"\n",
    "    assert len(A.shape) == 2\n",
    "    assert A.shape[0] == A.shape[1]\n",
    "    \n",
    "    # we have o vertices\n",
    "    o = A.shape[0]\n",
    "    assert k < o\n",
    "    \n",
    "    # ~~START DELETE~~\n",
    "    return [j for j in range(o) if A[k, j] == 1] \n",
    "    # ~~END DELETE~~"
   ]
  },
  {
   "cell_type": "code",
   "execution_count": 23,
   "metadata": {},
   "outputs": [
    {
     "name": "stdout",
     "output_type": "stream",
     "text": [
      "(7, 2) [(1, 5), (3, 4), (5, 6)]\n",
      "(3, 4) [(1, 5), (5, 6)]\n",
      "(1, 5) [(5, 6)]\n"
     ]
    }
   ],
   "source": [
    "\n",
    "def push(q, elem):\n",
    "    \"\"\"Add an element to the queue\n",
    "    \n",
    "    Args:\n",
    "        q (list): the queue.\n",
    "        elem (Any): the element to add.\n",
    "    \"\"\"\n",
    "    # YOUR CODE HERE\n",
    "    # ~~START DELETE~~\n",
    "    q.append(elem)\n",
    "    # ~~END DELETE~~\n",
    "    \n",
    "def pop(q):\n",
    "    \"\"\"Get an element from a queue, if there are any.\n",
    "       Return the queue (updated) AND the element.\n",
    "       If there is nothing in the queue, return the queue and the value None.\n",
    "    \n",
    "    Args:\n",
    "        q (list): the queue.\n",
    "    \"\"\"\n",
    "    \n",
    "    # YOUR CODE HERE\n",
    "    # ~~START DELETE~~\n",
    "    if len(q) > 0:\n",
    "        r = q[0]\n",
    "        return q[1:], r\n",
    "    else:\n",
    "        return q, None\n",
    "    # ~~END DELETE~~\n",
    "\n",
    "def popelem(q, e):\n",
    "    counter = 0 \n",
    "    hello = -1\n",
    "    while (counter<len(q)):\n",
    "        current = q[counter]\n",
    "        value = current[0]\n",
    "        if (value == e):\n",
    "            hello = counter\n",
    "            break\n",
    "        counter += 1\n",
    "    if (hello >= 0):\n",
    "        elem = q[hello]\n",
    "        q.pop(hello)\n",
    "        return elem\n",
    "    return None\n",
    "\n",
    "def priority_pop(q):\n",
    "    counter = 0\n",
    "    costvalue = q[counter]\n",
    "    value = costvalue[1]\n",
    "    shortest = value\n",
    "    hello = 0\n",
    "        \n",
    "    while (counter<len(q)-1):\n",
    "        current = q[counter + 1]\n",
    "        value = current[1]\n",
    "        \n",
    "        if (value < shortest):\n",
    "            shortest=value\n",
    "            hello = counter + 1\n",
    "        counter += 1\n",
    "    e = q[hello]\n",
    "    q = q.pop(hello)\n",
    "    return e\n",
    "\n",
    "\n",
    "#test_list = np.array([(1,5), (3, 4), (5, 6)])\n",
    "\n",
    "test_list = [(1,5), (3, 4), (5, 6), (7, 2)]\n",
    "#priority_pop(test_list)\n",
    "#priority_pop(test_list)\n",
    "#e, test_list = priority_pop(test_list)\n",
    "#print(e)\n",
    "\n",
    "\n",
    "\n",
    "#test to see if the code prints out the least set out of the array based on the second number of the set\n",
    "\n",
    "#e =  priority_pop(test_list)\n",
    "#print(e, test_list)\n",
    "\n",
    "#e = priority_pop(test_list)\n",
    "#print(e, test_list)\n",
    "\n",
    "\n",
    "#e = priority_pop(test_list)\n",
    "#print(e, test_list)"
   ]
  },
  {
   "cell_type": "code",
   "execution_count": 52,
   "metadata": {},
   "outputs": [],
   "source": [
    "#la_start = [4, 4]\n",
    "#la_end = [3, 10]\n",
    "def uniform_cost_search(A, start, goal):\n",
    "    \"\"\"Perform a breadth first search, returning distances from nodes.\n",
    "       If goal is specified, return costs once goal is found.\n",
    "       If the distance to the node is np.inf, then the nodes are unconnected in the graph.\n",
    "    \n",
    "    Args:\n",
    "        A (np.ndarray): Adjacency matrix representing graph to search.\n",
    "        start (int): vertex to start search at.\n",
    "        goal (int): vertex indicating goal node.\n",
    "    \"\"\"\n",
    "    # o is the number of nodes\n",
    "    o = A.shape[0]\n",
    "    #print(\"Number of nodes is\", o)\n",
    "     \n",
    "    # costs (or distances of path to node)\n",
    "    # inf represents that these nodes are not connected.\n",
    "    costs = np.inf * np.ones((o,))\n",
    "    \n",
    "    # Begin our search at start node start, which is distance 0\n",
    "    queue = [(start, 0)]\n",
    "\n",
    "    \n",
    "    # Dictionary of nodes we have already seen.\n",
    "    # keys are ints, and values are booleans.\n",
    "    seen = {}\n",
    "\n",
    "    # YOUR CODE HERE\n",
    "    # ~~START DELETE~~\n",
    "\n",
    "    while len(queue) > 0:\n",
    "        #print(queue)\n",
    "        queue, (current, cost) = pop(queue)\n",
    "        seen[current] = True\n",
    "        costs[current] = cost\n",
    "        \n",
    "        \n",
    "        #print(len(seen))\n",
    "        \n",
    "        if goal == current:\n",
    "            #print(\"Found goal!\")\n",
    "            return costs\n",
    "        for neighbor in neighbors(A, current):\n",
    "            if neighbor in seen:\n",
    "                continue\n",
    "            push(queue, (neighbor, cost+1))\n",
    "    # ~~END DELETE~~\n",
    "    return costs\n",
    "\n",
    "\n",
    "\n"
   ]
  },
  {
   "cell_type": "code",
   "execution_count": 53,
   "metadata": {},
   "outputs": [
    {
     "data": {
      "image/png": "[encoded data removed]",
      "text/plain": [
       "<Figure size 432x288 with 1 Axes>"
      ]
     },
     "metadata": {
      "needs_background": "light"
     },
     "output_type": "display_data"
    }
   ],
   "source": [
    "#la_start = [0, 0]\n",
    "#la_end = [9, 3]\n",
    "la_start = [8, 12]\n",
    "la_end = [0, 3]\n",
    "visualize_map(\"Start to End\", data, start=la_start, end=la_end)"
   ]
  },
  {
   "cell_type": "code",
   "execution_count": 61,
   "metadata": {},
   "outputs": [],
   "source": [
    "\n",
    "la_start_vertex = vertex_of_cell(data, la_start[0], la_start[1])\n",
    "la_end_vertex = vertex_of_cell(data, la_end[0], la_end[1])\n",
    "\n",
    "#print(la_start_vertex)\n",
    "#print(la_end_vertex)\n",
    "\n",
    "la_costs = uniform_cost_search(\n",
    "    la_adjacency,\n",
    "    la_start_vertex,\n",
    "    la_end_vertex,\n",
    ")"
   ]
  },
  {
   "cell_type": "code",
   "execution_count": 56,
   "metadata": {
    "scrolled": true
   },
   "outputs": [
    {
     "name": "stdout",
     "output_type": "stream",
     "text": [
      "Uniform Cost Search Runtime: 2.637716054916382 seconds\n"
     ]
    }
   ],
   "source": [
    "import time\n",
    "start_time = time.time()\n",
    "for i in range(1):\n",
    "    la_costs = uniform_cost_search(la_adjacency, la_start_vertex, la_end_vertex)\n",
    "print(\"Uniform Cost Search Runtime:\", (time.time() - start_time), \"seconds\")"
   ]
  },
  {
   "cell_type": "code",
   "execution_count": 51,
   "metadata": {},
   "outputs": [
    {
     "data": {
      "image/png": "[encoded data removed]",
      "text/plain": [
       "<Figure size 432x288 with 2 Axes>"
      ]
     },
     "metadata": {
      "needs_background": "light"
     },
     "output_type": "display_data"
    }
   ],
   "source": [
    "visualize_costs(\n",
    "    \"Distances from Start on LA Map\", \n",
    "    data, \n",
    "    la_costs, \n",
    "    start=la_start,\n",
    "    end=la_end,\n",
    ")\n"
   ]
  },
  {
   "cell_type": "code",
   "execution_count": 29,
   "metadata": {},
   "outputs": [],
   "source": [
    "def shortest_neighbor(A, costs, k):\n",
    "    \"\"\"Find the neighbor to vertex `k` with the shortest distance.\n",
    "    \n",
    "    Args:\n",
    "        A (np.ndarray): Adjacency matrix representing graph.\n",
    "        costs (np.ndarray): costs to each vertex from some start node.\n",
    "        k (int): vertex whose neighbors we should consider\n",
    "    \"\"\"\n",
    "    # YOUR CODE HERE\n",
    "    # ~~START DELETE~~\n",
    "    best_neighbor = None\n",
    "    best_cost = np.inf\n",
    "    for neighbor in neighbors(A, k):\n",
    "        if costs[neighbor] < best_cost:\n",
    "            best_neighbor = neighbor\n",
    "            best_cost = costs[neighbor]\n",
    "    return best_neighbor\n",
    "    # ~~END DELETE~~"
   ]
  },
  {
   "cell_type": "code",
   "execution_count": 30,
   "metadata": {},
   "outputs": [],
   "source": [
    "def shortest_path(A, costs, start, goal):\n",
    "    \"\"\"Find the shortest_path to goal from start. Costs are distances from start.\n",
    "    \n",
    "    Args:\n",
    "        A (np.ndarray): Adjacency matrix representing graph.\n",
    "        costs (np.ndarray): costs (distances) to each vertex from `start`.\n",
    "        start (int): vertex to start at.\n",
    "        goal (int): vertex to reach.\n",
    "    \"\"\"\n",
    "    \n",
    "    # YOUR CODE HERE\n",
    "    # ~~START DELETE~~\n",
    "    \n",
    "    if goal == start:\n",
    "        return [goal]\n",
    "    \n",
    "    path = [goal]\n",
    "    \n",
    "    \n",
    "    best_neighbor = shortest_neighbor(A, costs, goal)\n",
    "    path.append(best_neighbor)\n",
    "    while best_neighbor != start:\n",
    "        best_neighbor = shortest_neighbor(A, costs, best_neighbor)\n",
    "        path.append(best_neighbor)\n",
    "\n",
    "    path.reverse()\n",
    "    return path\n",
    "    # ~~END DELETE~~"
   ]
  },
  {
   "cell_type": "code",
   "execution_count": 31,
   "metadata": {},
   "outputs": [
    {
     "name": "stdout",
     "output_type": "stream",
     "text": [
      "[156, 138, 120, 102, 101, 100, 99, 98, 97, 96, 95, 94, 93, 75, 74, 56, 38, 20, 2, 3]\n"
     ]
    }
   ],
   "source": [
    "la_path = shortest_path(\n",
    "    la_adjacency, \n",
    "    la_costs, \n",
    "    la_start_vertex, \n",
    "    la_end_vertex,\n",
    ")\n",
    "print(la_path)"
   ]
  },
  {
   "cell_type": "code",
   "execution_count": 44,
   "metadata": {},
   "outputs": [],
   "source": [
    "def dijkstra(A, start):\n",
    "    \"\"\"Perform a breadth first search, returning distances from nodes.\n",
    "       If goal is specified, return costs once goal is found.\n",
    "       If the distance to the node is np.inf, then the nodes are unconnected in the graph.\n",
    "    \n",
    "    Args:\n",
    "        A (np.ndarray): Adjacency matrix representing graph to search.\n",
    "        start (int): vertex to start search at.\n",
    "        goal (int): vertex indicating goal node.\n",
    "    \"\"\"\n",
    "    # o is the number of nodes\n",
    "    o = A.shape[0]\n",
    "    #print(\"Number of nodes is\", o)\n",
    "     \n",
    "    # costs (or distances of path to node)\n",
    "    # inf represents that these nodes are not connected.\n",
    "    costs = np.inf * np.ones((o,))\n",
    "    \n",
    "    # Begin our search at start node start, which is distance 0\n",
    "    queue = [(start, 0)]\n",
    "    previous = np.zeros((o,))\n",
    "    previous[start] = start\n",
    "    costs[start] = 0\n",
    "    \n",
    "    # Dictionary of nodes we have already seen.\n",
    "    # keys are ints, and values are booleans.\n",
    "    seen = {}\n",
    "    x = 1\n",
    "    # YOUR CODE HERE\n",
    "    # ~~START DELETE~~\n",
    "\n",
    "    while len(queue) > 0:\n",
    "        #print(queue)\n",
    "        (current, cost) = priority_pop(queue)\n",
    "\n",
    "        for neighbor in neighbors(A, current):\n",
    "            if costs[neighbor]>cost+1:\n",
    "                costs[neighbor] = cost+1\n",
    "                previous[neighbor]= current\n",
    "                popelem(queue, neighbor)\n",
    "                push(queue, (neighbor, cost+1))\n",
    "                \n",
    "           # if neighbor in seen:\n",
    "            #    continue\n",
    "            \n",
    "    # ~~END DELETE~~\n",
    "    return costs, previous\n",
    "    #return previous\n",
    "    #return costs"
   ]
  },
  {
   "cell_type": "code",
   "execution_count": 45,
   "metadata": {},
   "outputs": [
    {
     "name": "stdout",
     "output_type": "stream",
     "text": [
      "(array([20., 19., 18., 19., 18., 17., 16., 15., 14., 13., 12., 11., 10.,\n",
      "        9., 10., 11., 12., 13., 19., 18., 17., inf, inf, inf, 17., inf,\n",
      "       inf, inf, 13., inf, inf,  8.,  9., 10., 11., 12., 18., 17., 16.,\n",
      "       17., inf, inf, inf, inf, inf, inf, inf, inf, inf,  7.,  8.,  9.,\n",
      "       10., 11., 17., 16., 15., inf, inf, inf, inf, inf, inf, inf, inf,\n",
      "       inf, inf,  6.,  7.,  8.,  9., 10., 16., 15., 14., 13., inf, inf,\n",
      "       inf,  9., inf, inf,  6.,  5.,  4.,  5.,  6.,  7.,  8.,  9., 15.,\n",
      "       14., 13., 12., 11., 10.,  9.,  8.,  7.,  6.,  5.,  4.,  3.,  4.,\n",
      "        5.,  6.,  7.,  8., 14., 13., 12., 11., 10.,  9.,  8.,  7.,  6.,\n",
      "        5.,  4.,  3.,  2.,  3.,  4.,  5.,  6.,  7., 13., 12., 11., 10.,\n",
      "        9.,  8.,  7.,  6.,  5.,  4.,  3.,  2.,  1.,  2.,  3.,  4.,  5.,\n",
      "        6., 12., 11., 10.,  9.,  8.,  7.,  6.,  5.,  4.,  3.,  2.,  1.,\n",
      "        0.,  1.,  2.,  3.,  4.,  5., 13., 12., 11., 10.,  9.,  8.,  7.,\n",
      "        6.,  5.,  4.,  3.,  2.,  1.,  2.,  3.,  4.,  5.,  6., 14., 13.,\n",
      "       12., 11., 10.,  9.,  8.,  7.,  6.,  5.,  4.,  3.,  2.,  3.,  4.,\n",
      "        5.,  6.,  7.]), array([  1.,   2.,  20.,   4.,   5.,   6.,   7.,   8.,   9.,  10.,  11.,\n",
      "        12.,  13.,  31.,  13.,  14.,  15.,  16.,  19.,  20.,  38.,   0.,\n",
      "         0.,   0.,   6.,   0.,   0.,   0.,  10.,   0.,   0.,  49.,  31.,\n",
      "        32.,  33.,  34.,  37.,  38.,  56.,  38.,   0.,   0.,   0.,   0.,\n",
      "         0.,   0.,   0.,   0.,   0.,  67.,  49.,  50.,  51.,  52.,  55.,\n",
      "        56.,  74.,   0.,   0.,   0.,   0.,   0.,   0.,   0.,   0.,   0.,\n",
      "         0.,  85.,  67.,  68.,  69.,  70.,  73.,  74.,  75.,  93.,   0.,\n",
      "         0.,   0.,  97.,   0.,   0.,  83.,  84., 102.,  84.,  85.,  86.,\n",
      "        87.,  88.,  91.,  92.,  93.,  94.,  95.,  96.,  97.,  98.,  99.,\n",
      "       100., 101., 102., 120., 102., 103., 104., 105., 106., 109., 110.,\n",
      "       111., 112., 113., 114., 115., 116., 117., 118., 119., 120., 138.,\n",
      "       120., 121., 122., 123., 124., 127., 128., 129., 130., 131., 132.,\n",
      "       133., 134., 135., 136., 137., 138., 156., 138., 139., 140., 141.,\n",
      "       142., 145., 146., 147., 148., 149., 150., 151., 152., 153., 154.,\n",
      "       155., 156., 156., 156., 157., 158., 159., 160., 144., 145., 146.,\n",
      "       147., 148., 149., 150., 151., 152., 153., 154., 155., 156., 157.,\n",
      "       158., 159., 160., 161., 162., 163., 164., 165., 166., 167., 168.,\n",
      "       169., 170., 171., 172., 173., 174., 175., 176., 177., 178., 179.]))\n",
      "Dijkstra Search Runtime: 67.13751792907715 seconds\n"
     ]
    }
   ],
   "source": [
    "la_dijkstra = dijkstra(\n",
    "    la_adjacency, \n",
    "    la_start_vertex, \n",
    ")\n",
    "print(la_dijkstra)\n",
    "\n",
    "import time\n",
    "start_time = time.time()\n",
    "for i in range(5000):\n",
    "    la_dijkstra = dijkstra(la_adjacency, la_start_vertex)\n",
    "print(\"Dijkstra Search Runtime:\", (time.time() - start_time), \"seconds\")\n"
   ]
  },
  {
   "cell_type": "code",
   "execution_count": 58,
   "metadata": {},
   "outputs": [
    {
     "data": {
      "image/png": "[encoded data removed]",
      "text/plain": [
       "<Figure size 432x288 with 2 Axes>"
      ]
     },
     "metadata": {
      "needs_background": "light"
     },
     "output_type": "display_data"
    }
   ],
   "source": [
    "#visualize the costs using dijkstra\n",
    "visualize_costs(\"Distances from Start on LA Map\", data, la_dijkstra[0])"
   ]
  },
  {
   "cell_type": "code",
   "execution_count": 37,
   "metadata": {},
   "outputs": [
    {
     "data": {
      "image/png": "[encoded data removed]",
      "text/plain": [
       "<Figure size 432x288 with 2 Axes>"
      ]
     },
     "metadata": {
      "needs_background": "light"
     },
     "output_type": "display_data"
    }
   ],
   "source": [
    "#visualize the costs in general using la_costs\n",
    "visualize_costs(\n",
    "    \"Distances from Start on LA Map\", \n",
    "    data, \n",
    "    la_costs, \n",
    "    start=la_start,\n",
    "    end=la_end,\n",
    ")"
   ]
  }
 ],
 "metadata": {
  "kernelspec": {
   "display_name": "Python 3",
   "language": "python",
   "name": "python3"
  },
  "language_info": {
   "codemirror_mode": {
    "name": "ipython",
    "version": 3
   },
   "file_extension": ".py",
   "mimetype": "text/x-python",
   "name": "python",
   "nbconvert_exporter": "python",
   "pygments_lexer": "ipython3",
   "version": "3.7.6"
  }
 },
 "nbformat": 4,
 "nbformat_minor": 4
}
